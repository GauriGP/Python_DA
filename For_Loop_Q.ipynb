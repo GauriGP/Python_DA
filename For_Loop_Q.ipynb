{
 "cells": [
  {
   "cell_type": "markdown",
   "id": "dfe9d2fb-85c1-472b-a7a2-cdec5c469d02",
   "metadata": {},
   "source": [
    "## Write a program using a for loop to print numbers from 1 to 10.\n"
   ]
  },
  {
   "cell_type": "code",
   "execution_count": 1,
   "id": "97b65217-ceb6-4694-81e0-89b4cf84f3e6",
   "metadata": {},
   "outputs": [
    {
     "name": "stdout",
     "output_type": "stream",
     "text": [
      "1\n",
      "2\n",
      "3\n",
      "4\n",
      "5\n",
      "6\n",
      "7\n",
      "8\n",
      "9\n",
      "10\n"
     ]
    }
   ],
   "source": [
    "for i in range(1,11):\n",
    "    print(i)"
   ]
  },
  {
   "cell_type": "markdown",
   "id": "64c34ac9-6bb9-40cf-9d93-6571c09cf5a6",
   "metadata": {},
   "source": [
    "## Ask the user to enter a word and use a for loop to print each character in the word."
   ]
  },
  {
   "cell_type": "code",
   "execution_count": 6,
   "id": "2c56b510-8571-4419-9944-75d333a10cb4",
   "metadata": {},
   "outputs": [
    {
     "name": "stdin",
     "output_type": "stream",
     "text": [
      "Word -  Hello\n"
     ]
    },
    {
     "name": "stdout",
     "output_type": "stream",
     "text": [
      "H\n",
      "e\n",
      "l\n",
      "l\n",
      "o\n"
     ]
    }
   ],
   "source": [
    "a = input(\"Word - \")\n",
    "for i in a:\n",
    "    print(i)"
   ]
  },
  {
   "cell_type": "markdown",
   "id": "e4ed7237-52f4-4902-8f6c-75cbb2ed44cf",
   "metadata": {},
   "source": [
    "## Use a for loop to print numbers from 1 to 5 and then back down to 1."
   ]
  },
  {
   "cell_type": "code",
   "execution_count": 12,
   "id": "8246e13a-ce70-48ee-8299-42d4581beaf2",
   "metadata": {},
   "outputs": [
    {
     "name": "stdout",
     "output_type": "stream",
     "text": [
      "1\n",
      "2\n",
      "3\n",
      "4\n",
      "5\n",
      "4\n",
      "3\n",
      "2\n",
      "1\n"
     ]
    }
   ],
   "source": [
    "for i in range(1,6):\n",
    "    print(i)\n",
    "for i in range(4,0,-1):\n",
    "    print(i)"
   ]
  },
  {
   "cell_type": "markdown",
   "id": "c57d8d4c-4cc2-4cd8-8662-cb7e8870c7bf",
   "metadata": {},
   "source": [
    "## Define a list of fruits ([\"apple\", \"banana\", \"cherry\", \"date\"]) and use a for loop to print each fruit in the list."
   ]
  },
  {
   "cell_type": "code",
   "execution_count": 17,
   "id": "b4f95945-d895-41c8-a683-73ab9c0a1a5f",
   "metadata": {},
   "outputs": [
    {
     "name": "stdout",
     "output_type": "stream",
     "text": [
      "apple\n",
      "banana\n",
      "cherry\n",
      "date\n"
     ]
    }
   ],
   "source": [
    "f = ['apple', 'banana','cherry','date']\n",
    "for i in f:\n",
    "    print(i)     "
   ]
  },
  {
   "cell_type": "markdown",
   "id": "416f7ab2-4f7e-45cc-aaa7-ca58f76a8a41",
   "metadata": {},
   "source": [
    "## Use a for loop to print all even numbers between 1 and 10"
   ]
  },
  {
   "cell_type": "code",
   "execution_count": 18,
   "id": "afcb1426-082b-487c-a058-851d5392d876",
   "metadata": {},
   "outputs": [
    {
     "name": "stdout",
     "output_type": "stream",
     "text": [
      "2\n",
      "4\n",
      "6\n",
      "8\n",
      "10\n"
     ]
    }
   ],
   "source": [
    "for i in range(1,11):\n",
    "    if i%2 == 0:\n",
    "        print(i)"
   ]
  },
  {
   "cell_type": "markdown",
   "id": "bf6f6747-0e5b-48f3-9d4c-8a16c16822ec",
   "metadata": {},
   "source": [
    "## Write a program that calculates the sum of numbers in a list ([1, 2, 3, 4, 5]) using a for loop."
   ]
  },
  {
   "cell_type": "code",
   "execution_count": 21,
   "id": "a768b824-e8b1-4afb-ab0d-99b59e775c9d",
   "metadata": {},
   "outputs": [
    {
     "name": "stdout",
     "output_type": "stream",
     "text": [
      "1\n",
      "2\n",
      "3\n",
      "4\n",
      "5\n"
     ]
    }
   ],
   "source": [
    "l = [1,2,3,4,5]\n",
    "for i in l:\n",
    "    t = 0\n",
    "    sum = i+t\n",
    "    print(sum)"
   ]
  },
  {
   "cell_type": "markdown",
   "id": "0cee19f8-0633-4e32-8432-3333f9ee33f6",
   "metadata": {},
   "source": [
    "where it is going wrong ??????"
   ]
  },
  {
   "cell_type": "markdown",
   "id": "3af706b5-7835-4dc5-8053-8c09b6f92031",
   "metadata": {},
   "source": [
    "## Use a for loop to print numbers in reverse from 5 to 1."
   ]
  },
  {
   "cell_type": "code",
   "execution_count": 24,
   "id": "ffdee6c5-6a99-4778-a9af-4447b91d5b45",
   "metadata": {},
   "outputs": [
    {
     "name": "stdout",
     "output_type": "stream",
     "text": [
      "5\n",
      "4\n",
      "3\n",
      "2\n",
      "1\n"
     ]
    }
   ],
   "source": [
    "for i in range (5,0,-1):\n",
    "    print(i)"
   ]
  },
  {
   "cell_type": "code",
   "execution_count": null,
   "id": "68056ba8-cee1-4dbf-9a33-7a81d7e0b5f0",
   "metadata": {},
   "outputs": [],
   "source": []
  }
 ],
 "metadata": {
  "kernelspec": {
   "display_name": "Python [conda env:base] *",
   "language": "python",
   "name": "conda-base-py"
  },
  "language_info": {
   "codemirror_mode": {
    "name": "ipython",
    "version": 3
   },
   "file_extension": ".py",
   "mimetype": "text/x-python",
   "name": "python",
   "nbconvert_exporter": "python",
   "pygments_lexer": "ipython3",
   "version": "3.12.7"
  }
 },
 "nbformat": 4,
 "nbformat_minor": 5
}
