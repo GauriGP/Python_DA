{
 "cells": [
  {
   "cell_type": "code",
   "execution_count": 1,
   "id": "9769e81c-df2c-4491-98c2-b544c46e5048",
   "metadata": {},
   "outputs": [],
   "source": [
    "from modules import count_vowels, is_palindrome, word_frequency"
   ]
  },
  {
   "cell_type": "code",
   "execution_count": 2,
   "id": "53908fdb-7177-4aab-b1fc-166bf4f257c5",
   "metadata": {},
   "outputs": [
    {
     "data": {
      "text/plain": [
       "4"
      ]
     },
     "execution_count": 2,
     "metadata": {},
     "output_type": "execute_result"
    }
   ],
   "source": [
    "count_vowels('Vaishnavi')"
   ]
  },
  {
   "cell_type": "code",
   "execution_count": 3,
   "id": "13c883a2-0f75-4af6-8ae7-5ffab543d928",
   "metadata": {},
   "outputs": [
    {
     "data": {
      "text/plain": [
       "5"
      ]
     },
     "execution_count": 3,
     "metadata": {},
     "output_type": "execute_result"
    }
   ],
   "source": [
    "count_vowels('aeiout')"
   ]
  },
  {
   "cell_type": "code",
   "execution_count": 4,
   "id": "df9b1a06-cb8a-4735-ab8b-ad21bfec8152",
   "metadata": {},
   "outputs": [
    {
     "data": {
      "text/plain": [
       "'string is palindrome.'"
      ]
     },
     "execution_count": 4,
     "metadata": {},
     "output_type": "execute_result"
    }
   ],
   "source": [
    "is_palindrome('level')"
   ]
  },
  {
   "cell_type": "code",
   "execution_count": 5,
   "id": "b68b5333-e8af-4992-bdc9-6c248bd6155e",
   "metadata": {},
   "outputs": [
    {
     "data": {
      "text/plain": [
       "'string is not palindrome.'"
      ]
     },
     "execution_count": 5,
     "metadata": {},
     "output_type": "execute_result"
    }
   ],
   "source": [
    "is_palindrome('bchgst')"
   ]
  },
  {
   "cell_type": "code",
   "execution_count": 6,
   "id": "70ca795b-8397-4dbc-921c-3ae5b183845d",
   "metadata": {},
   "outputs": [
    {
     "data": {
      "text/plain": [
       "5"
      ]
     },
     "execution_count": 6,
     "metadata": {},
     "output_type": "execute_result"
    }
   ],
   "source": [
    "word_frequency(\"Vaish\")"
   ]
  },
  {
   "cell_type": "code",
   "execution_count": 7,
   "id": "15fd0451-7d2a-4f46-879d-ff28368eee1e",
   "metadata": {},
   "outputs": [],
   "source": [
    "# read_file(filepath): Reads and returns content of a text file."
   ]
  },
  {
   "cell_type": "code",
   "execution_count": 36,
   "id": "5d839110-db9c-4959-aefc-cf77e75e6208",
   "metadata": {},
   "outputs": [],
   "source": [
    "f = open('modules.py',mode = 'r+')"
   ]
  },
  {
   "cell_type": "code",
   "execution_count": 37,
   "id": "8ef7d845-2618-4345-92fe-45d23f8ba070",
   "metadata": {},
   "outputs": [
    {
     "name": "stdout",
     "output_type": "stream",
     "text": [
      "# count_vowels(s): Returns number of vowels in a string.\n",
      "def count_vowels(s):\n",
      "    vowels = 'AEIOUaeiou'\n",
      "    count = 0\n",
      "    for char in s:\n",
      "        if char in vowels:\n",
      "            count += 1\n",
      "    return count\n",
      "\n",
      "# is_palindrome(s): Checks if the string is a palindrome.\n",
      "def is_palindrome(s):\n",
      "    if s == s[::-1]:\n",
      "        return \"string is palindrome.\"\n",
      "    else: \n",
      "        return \"string is not palindrome.\"\n",
      "\n",
      "# word_frequency(s): Returns dictionary withÂ wordÂ counts.\n",
      "def word_frequency(s):\n",
      "    word = []\n",
      "    for i in s:\n",
      "        word.append(i)\n",
      "    return len(word)def square(a):\n",
      "            return a*a/ndef square(a):\n",
      "            return a*a\n",
      "\n"
     ]
    }
   ],
   "source": [
    "print(f.read())"
   ]
  },
  {
   "cell_type": "code",
   "execution_count": 38,
   "id": "6d9384a2-c0d0-4992-9a75-d0734fb14e52",
   "metadata": {},
   "outputs": [],
   "source": [
    "# write_file(filepath, data): Writes data to file."
   ]
  },
  {
   "cell_type": "code",
   "execution_count": 39,
   "id": "087b90a8-2559-4c48-a963-66bdf09e2906",
   "metadata": {},
   "outputs": [
    {
     "data": {
      "text/plain": [
       "30"
      ]
     },
     "execution_count": 39,
     "metadata": {},
     "output_type": "execute_result"
    }
   ],
   "source": [
    "f.write('''\n",
    "def square(a):\n",
    "    return a*a''')"
   ]
  },
  {
   "cell_type": "code",
   "execution_count": 40,
   "id": "8d5fe0a2-f870-4225-b284-ffa849cd1c2b",
   "metadata": {},
   "outputs": [
    {
     "data": {
      "text/plain": [
       "0"
      ]
     },
     "execution_count": 40,
     "metadata": {},
     "output_type": "execute_result"
    }
   ],
   "source": [
    "f.seek(0)"
   ]
  },
  {
   "cell_type": "code",
   "execution_count": 41,
   "id": "2c8c90ad-577c-4af1-b9ef-3b5e317cc278",
   "metadata": {},
   "outputs": [
    {
     "name": "stdout",
     "output_type": "stream",
     "text": [
      "# count_vowels(s): Returns number of vowels in a string.\n",
      "def count_vowels(s):\n",
      "    vowels = 'AEIOUaeiou'\n",
      "    count = 0\n",
      "    for char in s:\n",
      "        if char in vowels:\n",
      "            count += 1\n",
      "    return count\n",
      "\n",
      "# is_palindrome(s): Checks if the string is a palindrome.\n",
      "def is_palindrome(s):\n",
      "    if s == s[::-1]:\n",
      "        return \"string is palindrome.\"\n",
      "    else: \n",
      "        return \"string is not palindrome.\"\n",
      "\n",
      "# word_frequency(s): Returns dictionary withÂ wordÂ counts.\n",
      "def word_frequency(s):\n",
      "    word = []\n",
      "    for i in s:\n",
      "        word.append(i)\n",
      "    return len(word)def square(a):\n",
      "            return a*a/ndef square(a):\n",
      "            return a*a\n",
      "\n",
      "def square(a):\n",
      "    return a*a\n"
     ]
    }
   ],
   "source": [
    "print(f.read())"
   ]
  },
  {
   "cell_type": "code",
   "execution_count": 42,
   "id": "d416cc12-e8ea-46a1-b75e-488083d9c040",
   "metadata": {},
   "outputs": [],
   "source": [
    "# count_lines(filepath): Returns number of lines in the file."
   ]
  },
  {
   "cell_type": "code",
   "execution_count": null,
   "id": "bb47a725-3942-4da5-9b37-5553bf973517",
   "metadata": {},
   "outputs": [],
   "source": []
  }
 ],
 "metadata": {
  "kernelspec": {
   "display_name": "Python [conda env:base] *",
   "language": "python",
   "name": "conda-base-py"
  },
  "language_info": {
   "codemirror_mode": {
    "name": "ipython",
    "version": 3
   },
   "file_extension": ".py",
   "mimetype": "text/x-python",
   "name": "python",
   "nbconvert_exporter": "python",
   "pygments_lexer": "ipython3",
   "version": "3.12.7"
  }
 },
 "nbformat": 4,
 "nbformat_minor": 5
}
