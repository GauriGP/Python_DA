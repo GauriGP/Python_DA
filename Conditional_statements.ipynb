{
 "cells": [
  {
   "cell_type": "markdown",
   "id": "f48a0702-023d-401d-b0ed-ba57768c87e5",
   "metadata": {},
   "source": [
    "# If Else"
   ]
  },
  {
   "cell_type": "code",
   "execution_count": 1,
   "id": "58c53881-468a-430a-9316-23601c87e341",
   "metadata": {},
   "outputs": [
    {
     "name": "stdout",
     "output_type": "stream",
     "text": [
      "Greater\n"
     ]
    }
   ],
   "source": [
    "if 10 < 5:\n",
    "    print(\"Smaller\")\n",
    "else:\n",
    "    print(\"Greater\")"
   ]
  },
  {
   "cell_type": "code",
   "execution_count": 1,
   "id": "56c09dfc-0e1b-4a47-9b86-0e841d6fb601",
   "metadata": {},
   "outputs": [],
   "source": [
    "# Write a program that takes the age of a person as input and prints whether they are eligible to vote (18 years or older)."
   ]
  },
  {
   "cell_type": "code",
   "execution_count": 2,
   "id": "08554492-4351-4d9d-aeef-05d8548fafa6",
   "metadata": {},
   "outputs": [
    {
     "name": "stdin",
     "output_type": "stream",
     "text": [
      "Enter your age 22\n"
     ]
    },
    {
     "name": "stdout",
     "output_type": "stream",
     "text": [
      "Your eligible to vote\n"
     ]
    }
   ],
   "source": [
    "age = int(input(\"Enter your age\"))\n",
    "if age >= 18:\n",
    "    print(\"Your eligible to vote\")\n",
    "else:\n",
    "    print(\"Your not eligible to vote\")"
   ]
  },
  {
   "cell_type": "code",
   "execution_count": 3,
   "id": "4b552402-7f5e-49c5-99b4-168c74af42b4",
   "metadata": {},
   "outputs": [],
   "source": [
    "# Take a number as input and print whether it is positive, negative, or zero."
   ]
  },
  {
   "cell_type": "code",
   "execution_count": 6,
   "id": "cd6cd4b7-d201-4d77-8e28-0acc3a02e078",
   "metadata": {},
   "outputs": [
    {
     "name": "stdin",
     "output_type": "stream",
     "text": [
      "Number = -1\n"
     ]
    },
    {
     "name": "stdout",
     "output_type": "stream",
     "text": [
      "Negetive Number\n"
     ]
    }
   ],
   "source": [
    "N = int(input(\"Number =\"))\n",
    "if N > 0:\n",
    "    print(\"Positive Number\")\n",
    "elif N < 0:\n",
    "    print(\"Negetive Number\")\n",
    "else:\n",
    "    print(\"Its zero\")"
   ]
  },
  {
   "cell_type": "code",
   "execution_count": 7,
   "id": "0b802fef-79d9-4584-9eab-7fad98bebafe",
   "metadata": {},
   "outputs": [],
   "source": [
    "# Write a program that asks for a student's score (out of 100) and prints their grade based on the following criteria:\n",
    "# 90 and above: \"A\"\n",
    "# 80-89: \"B\"\n",
    "# 70-79: \"C\"\n",
    "# 60-69: \"D\"\n",
    "# Below 60: \"F\""
   ]
  },
  {
   "cell_type": "code",
   "execution_count": 11,
   "id": "69ba536a-352b-45da-aafc-e010960dcdcd",
   "metadata": {},
   "outputs": [
    {
     "name": "stdin",
     "output_type": "stream",
     "text": [
      "Enter your grades:  84\n"
     ]
    },
    {
     "name": "stdout",
     "output_type": "stream",
     "text": [
      "B\n"
     ]
    }
   ],
   "source": [
    "grade = int(input(\"Enter your grades: \"))\n",
    "if grade >= 90:\n",
    "    print(\"A\")\n",
    "elif grade >=80 and grade <=89:\n",
    "    print(\"B\")\n",
    "elif grade >=70 and  grade <=79:\n",
    "    print(\"C\")\n",
    "elif grade >= 60 and grade <=69:\n",
    "    print(\"D\")\n",
    "else:\n",
    "    print(\"F\")\n"
   ]
  },
  {
   "cell_type": "code",
   "execution_count": 12,
   "id": "71429ddd-6d4f-4e12-abf2-774f90358d9a",
   "metadata": {},
   "outputs": [],
   "source": [
    "# Write a program to check if a given year is a leap year. (Hint: A year is a leap\n",
    "# year if it is divisible by 4 but not by 100, except when it’s also divisible by 400.)"
   ]
  },
  {
   "cell_type": "code",
   "execution_count": 16,
   "id": "3b682d33-5c45-4e87-a1e0-574fcf9f58be",
   "metadata": {},
   "outputs": [
    {
     "name": "stdin",
     "output_type": "stream",
     "text": [
      "Year : 2028\n"
     ]
    },
    {
     "name": "stdout",
     "output_type": "stream",
     "text": [
      "This year is leap year!\n"
     ]
    }
   ],
   "source": [
    "l = int(input(\"Year :\"))\n",
    "if l%4 == 0 and l%100 != 0:\n",
    "    print(\"This year is leap year!\")\n",
    "else:\n",
    "    print(\"Not leap year\")"
   ]
  },
  {
   "cell_type": "code",
   "execution_count": 17,
   "id": "2f35c670-3ff4-47be-b29f-535753941136",
   "metadata": {},
   "outputs": [],
   "source": [
    "# Take three numbers as input and print the largest of the three."
   ]
  },
  {
   "cell_type": "code",
   "execution_count": 19,
   "id": "fb536794-f58d-4497-ac01-b6d7bf692c47",
   "metadata": {},
   "outputs": [
    {
     "name": "stdin",
     "output_type": "stream",
     "text": [
      "Number1:  5\n",
      "Number2:  7\n",
      "Number3:  1\n"
     ]
    },
    {
     "name": "stdout",
     "output_type": "stream",
     "text": [
      "7\n"
     ]
    }
   ],
   "source": [
    "n1 = int(input(\"Number1: \"))\n",
    "n2 = int(input(\"Number2: \"))  \n",
    "n3 = int(input(\"Number3: \"))\n",
    "if n1 > n2:\n",
    "    print(n1)\n",
    "elif n2 > n3:\n",
    "    print(n2)\n",
    "else:\n",
    "    print(n3)"
   ]
  },
  {
   "cell_type": "code",
   "execution_count": 20,
   "id": "381699bd-3e2c-4873-b288-d5a8110e44f6",
   "metadata": {},
   "outputs": [],
   "source": [
    "# Write a program that takes an integer input and checks if it is even or odd"
   ]
  },
  {
   "cell_type": "code",
   "execution_count": 22,
   "id": "7cd7fd3b-c595-446f-9f7d-3f1b43e346cb",
   "metadata": {},
   "outputs": [
    {
     "name": "stdin",
     "output_type": "stream",
     "text": [
      "Enter a number:  1\n"
     ]
    },
    {
     "name": "stdout",
     "output_type": "stream",
     "text": [
      "odd\n"
     ]
    }
   ],
   "source": [
    "n = int(input('Enter a number: '))\n",
    "if n%2 == 0:\n",
    "    print(\"Even\")\n",
    "else:\n",
    "    print(\"odd\")"
   ]
  },
  {
   "cell_type": "code",
   "execution_count": 23,
   "id": "5673e980-e7f1-46c3-b57f-f06b1cd229d8",
   "metadata": {},
   "outputs": [],
   "source": [
    "# Create a simple login system that asks for a username and password and checks if\n",
    "# they match predefined values. Print “Login Successful” if correct, otherwise “Login Failed.”"
   ]
  },
  {
   "cell_type": "code",
   "execution_count": 25,
   "id": "57b592e5-b18d-4e13-a186-8b037a263205",
   "metadata": {},
   "outputs": [
    {
     "name": "stdin",
     "output_type": "stream",
     "text": [
      "Enter your Username:  Vaishnavi\n",
      "Enter the password:  gfsr@324\n"
     ]
    },
    {
     "name": "stdout",
     "output_type": "stream",
     "text": [
      "Login Successful\n"
     ]
    }
   ],
   "source": [
    "username = \"Vaishnavi\"\n",
    "password = \"gfsr@324\"\n",
    "\n",
    "u = input(\"Enter your Username: \")\n",
    "p = input(\"Enter the password: \")\n",
    "if u == username and p == password:\n",
    "    print(\"Login Successful\")\n",
    "else:\n",
    "    print(\"Login Failed\")"
   ]
  },
  {
   "cell_type": "code",
   "execution_count": 26,
   "id": "7b8773b2-421b-4d00-8adf-73e6f023cc1b",
   "metadata": {},
   "outputs": [],
   "source": [
    "# Write a program that calculates the final price of an item after applying a discount based on the price:\n",
    "# Above $100: 20% discount\n",
    "# $50-$100: 10% discount\n",
    "# Below $50: No discount"
   ]
  },
  {
   "cell_type": "code",
   "execution_count": 2,
   "id": "5c648d85-61ad-48d1-87ec-b46736da244c",
   "metadata": {},
   "outputs": [
    {
     "name": "stdin",
     "output_type": "stream",
     "text": [
      "Enter total price:  129\n"
     ]
    },
    {
     "name": "stdout",
     "output_type": "stream",
     "text": [
      "Final Price:  103.2\n"
     ]
    }
   ],
   "source": [
    "price = int(input(\"Enter total price: \"))\n",
    "if price > 100:\n",
    "    discount = 0.20\n",
    "elif price > 50 and price < 100:\n",
    "    discount =0.10\n",
    "else:\n",
    "    discount = 0.0\n",
    "final_price = price * (1 - discount)\n",
    "print('Final Price: ',final_price)"
   ]
  },
  {
   "cell_type": "code",
   "execution_count": null,
   "id": "664e1f47-d48b-4c7b-b5b5-23bbee60537f",
   "metadata": {},
   "outputs": [],
   "source": []
  }
 ],
 "metadata": {
  "kernelspec": {
   "display_name": "Python [conda env:base] *",
   "language": "python",
   "name": "conda-base-py"
  },
  "language_info": {
   "codemirror_mode": {
    "name": "ipython",
    "version": 3
   },
   "file_extension": ".py",
   "mimetype": "text/x-python",
   "name": "python",
   "nbconvert_exporter": "python",
   "pygments_lexer": "ipython3",
   "version": "3.12.7"
  }
 },
 "nbformat": 4,
 "nbformat_minor": 5
}
