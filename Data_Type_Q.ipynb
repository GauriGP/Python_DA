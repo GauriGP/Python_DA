{
 "cells": [
  {
   "cell_type": "code",
   "execution_count": 2,
   "id": "26f59305-081c-48a4-98cc-b6fe03e96fa1",
   "metadata": {},
   "outputs": [],
   "source": [
    "# Define variables to store a student's name, age, GPA, and list of subjects."
   ]
  },
  {
   "cell_type": "code",
   "execution_count": 3,
   "id": "08409753-a702-4a73-98cc-bdd9e8f2d0b7",
   "metadata": {},
   "outputs": [],
   "source": [
    "Name = \"Vaishnavi\"\n",
    "age = 22\n",
    "GPA = 9.05\n",
    "Sub = ['math','sci','eng']"
   ]
  },
  {
   "cell_type": "code",
   "execution_count": 5,
   "id": "001c6369-3a90-4099-b15e-8df859807f44",
   "metadata": {},
   "outputs": [],
   "source": [
    "# Convert age from years to months and display the result."
   ]
  },
  {
   "cell_type": "code",
   "execution_count": 6,
   "id": "cffc87bb-eda2-47d3-b0a6-f99d978c72b7",
   "metadata": {},
   "outputs": [
    {
     "name": "stdout",
     "output_type": "stream",
     "text": [
      "age_in_months - 264\n"
     ]
    }
   ],
   "source": [
    "age_in_year = 22\n",
    "age_in_months = age_in_year * 12\n",
    "print('age_in_months -', age_in_months)"
   ]
  },
  {
   "cell_type": "code",
   "execution_count": 7,
   "id": "ce251d8c-d5e6-4b4e-97f1-2f6485557f76",
   "metadata": {},
   "outputs": [],
   "source": [
    "# Concatenate and print a sentence using all the defined variables."
   ]
  },
  {
   "cell_type": "code",
   "execution_count": 13,
   "id": "1fce2498-4092-4a17-8499-f8293b364135",
   "metadata": {},
   "outputs": [
    {
     "name": "stdout",
     "output_type": "stream",
     "text": [
      "Vaishnavi is 22 Year old having 9.05 GPA in ['math', 'sci', 'eng']\n"
     ]
    }
   ],
   "source": [
    "age =str(age)\n",
    "GPA =str(GPA)\n",
    "Sub =str(Sub)\n",
    "D = Name + ' is ' + age + ' Year old having ' + GPA + ' GPA in ' + Sub\n",
    "print(D)"
   ]
  },
  {
   "cell_type": "code",
   "execution_count": 14,
   "id": "88490dd0-da6f-4251-b780-f2ac87b00284",
   "metadata": {},
   "outputs": [],
   "source": [
    "# Convert a float to an integer, and explain what happens to the decimal part."
   ]
  },
  {
   "cell_type": "code",
   "execution_count": 19,
   "id": "744c7c19-ab41-4c14-9774-5b9d1f6d3e21",
   "metadata": {},
   "outputs": [
    {
     "name": "stdout",
     "output_type": "stream",
     "text": [
      "3\n"
     ]
    }
   ],
   "source": [
    "f = 3.14\n",
    "f1 = int(f)\n",
    "print(f1)"
   ]
  },
  {
   "cell_type": "code",
   "execution_count": 21,
   "id": "afcb7cfa-7142-43b2-9626-e3f0c3d604a2",
   "metadata": {},
   "outputs": [],
   "source": [
    "# When convert float into integer the decimal part get removed not rounded and only return value before decimal point."
   ]
  }
 ],
 "metadata": {
  "kernelspec": {
   "display_name": "Python [conda env:base] *",
   "language": "python",
   "name": "conda-base-py"
  },
  "language_info": {
   "codemirror_mode": {
    "name": "ipython",
    "version": 3
   },
   "file_extension": ".py",
   "mimetype": "text/x-python",
   "name": "python",
   "nbconvert_exporter": "python",
   "pygments_lexer": "ipython3",
   "version": "3.12.7"
  }
 },
 "nbformat": 4,
 "nbformat_minor": 5
}
