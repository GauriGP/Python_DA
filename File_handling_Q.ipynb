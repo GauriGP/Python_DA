{
 "cells": [
  {
   "cell_type": "code",
   "execution_count": 1,
   "id": "abd5ad51-a56c-4fb8-9330-7ef881ac61dc",
   "metadata": {},
   "outputs": [],
   "source": [
    "# write a code to create a file and write \"Hello, Code Gemini.\" into it."
   ]
  },
  {
   "cell_type": "code",
   "execution_count": 3,
   "id": "e3d69a3e-128b-47ed-9989-a3c6f5776fd3",
   "metadata": {},
   "outputs": [],
   "source": [
    "f = open('assignment.txt',mode = 'w')"
   ]
  },
  {
   "cell_type": "code",
   "execution_count": 4,
   "id": "391422a5-5aeb-47b4-aaf2-cd2117a6e21f",
   "metadata": {},
   "outputs": [
    {
     "data": {
      "text/plain": [
       "19"
      ]
     },
     "execution_count": 4,
     "metadata": {},
     "output_type": "execute_result"
    }
   ],
   "source": [
    "f.write(\"Hello, Code Gemini.\")"
   ]
  },
  {
   "cell_type": "code",
   "execution_count": 5,
   "id": "1fa0cbd2-2a0a-4b4e-90a0-d501650987f8",
   "metadata": {},
   "outputs": [],
   "source": [
    "f.close()"
   ]
  },
  {
   "cell_type": "code",
   "execution_count": 6,
   "id": "e63be767-0e49-4368-a7a7-ef15487c8ff0",
   "metadata": {},
   "outputs": [],
   "source": [
    "f = open('assignment.txt',mode = 'r+')"
   ]
  },
  {
   "cell_type": "code",
   "execution_count": 7,
   "id": "19ce4880-648a-4739-8c2f-2181f10ae394",
   "metadata": {},
   "outputs": [
    {
     "data": {
      "text/plain": [
       "'Hello, Code Gemini.'"
      ]
     },
     "execution_count": 7,
     "metadata": {},
     "output_type": "execute_result"
    }
   ],
   "source": [
    "f.read()"
   ]
  },
  {
   "cell_type": "code",
   "execution_count": null,
   "id": "47cf84f3-9faa-4f96-8721-2186362c1716",
   "metadata": {},
   "outputs": [],
   "source": []
  }
 ],
 "metadata": {
  "kernelspec": {
   "display_name": "Python [conda env:base] *",
   "language": "python",
   "name": "conda-base-py"
  },
  "language_info": {
   "codemirror_mode": {
    "name": "ipython",
    "version": 3
   },
   "file_extension": ".py",
   "mimetype": "text/x-python",
   "name": "python",
   "nbconvert_exporter": "python",
   "pygments_lexer": "ipython3",
   "version": "3.12.7"
  }
 },
 "nbformat": 4,
 "nbformat_minor": 5
}
