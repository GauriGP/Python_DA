{
 "cells": [
  {
   "cell_type": "code",
   "execution_count": 3,
   "id": "6ffaaed8-29e2-4738-aeef-4da8321ca8f3",
   "metadata": {},
   "outputs": [],
   "source": [
    "# IndexError"
   ]
  },
  {
   "cell_type": "code",
   "execution_count": 6,
   "id": "f3fbdb5d-d60f-45a9-927a-40487bd4269b",
   "metadata": {},
   "outputs": [
    {
     "name": "stdin",
     "output_type": "stream",
     "text": [
      "Index is  5\n"
     ]
    },
    {
     "name": "stdout",
     "output_type": "stream",
     "text": [
      "list index out of range\n"
     ]
    }
   ],
   "source": [
    "lst = [1,2,3,4,5]\n",
    "try:\n",
    "    index = int(input('Index is '))\n",
    "    print({lst[index]})\n",
    "except Exception as e:\n",
    "    print(e)"
   ]
  },
  {
   "cell_type": "code",
   "execution_count": 7,
   "id": "3c4a35ec-df08-4b73-89ba-0edccab0fc8f",
   "metadata": {},
   "outputs": [],
   "source": [
    "# ValueError Handling"
   ]
  },
  {
   "cell_type": "code",
   "execution_count": 10,
   "id": "e5ce8079-48c0-4592-82c0-2df2501879df",
   "metadata": {},
   "outputs": [],
   "source": [
    "def add(a,b):\n",
    "    try:\n",
    "        return a+b\n",
    "    except Exception as e:\n",
    "        print(\"Value Error occurs\")\n",
    "        print(e)"
   ]
  },
  {
   "cell_type": "code",
   "execution_count": 11,
   "id": "febcf010-6858-4c75-a003-84bb38f0559d",
   "metadata": {},
   "outputs": [
    {
     "name": "stdout",
     "output_type": "stream",
     "text": [
      "Value Error occurs\n",
      "unsupported operand type(s) for +: 'int' and 'str'\n"
     ]
    }
   ],
   "source": [
    "add(3,'gt')"
   ]
  },
  {
   "cell_type": "code",
   "execution_count": 19,
   "id": "9b82854d-f8dc-4fb3-bf5a-d040fd398f1c",
   "metadata": {},
   "outputs": [],
   "source": [
    "# ZeroDivisionError Handling"
   ]
  },
  {
   "cell_type": "code",
   "execution_count": 21,
   "id": "4bb9d4af-3253-4c2a-89d9-2186729e1b68",
   "metadata": {},
   "outputs": [],
   "source": [
    "def div(a,b):\n",
    "    try:\n",
    "        return a/b\n",
    "    except Exception as e:\n",
    "        print(\"Zero Division Error occurs\")\n",
    "        print(e)"
   ]
  },
  {
   "cell_type": "code",
   "execution_count": 23,
   "id": "adb42f91-c61f-4f47-a881-168d36f796c1",
   "metadata": {},
   "outputs": [
    {
     "name": "stdout",
     "output_type": "stream",
     "text": [
      "Zero Division Error occurs\n",
      "division by zero\n"
     ]
    }
   ],
   "source": [
    "div(10,0)"
   ]
  },
  {
   "cell_type": "code",
   "execution_count": 24,
   "id": "122bb5ac-51b2-4c78-a0bc-57c200eeaa4f",
   "metadata": {},
   "outputs": [],
   "source": [
    "# TypeError in Function Calls"
   ]
  },
  {
   "cell_type": "code",
   "execution_count": 25,
   "id": "d503366c-b205-4584-9d53-71d503b60864",
   "metadata": {},
   "outputs": [],
   "source": [
    "def test(x,y):\n",
    "    try:\n",
    "        return x*y\n",
    "    except Exception as e:\n",
    "        print('TypeError')\n",
    "        print(e)"
   ]
  },
  {
   "cell_type": "code",
   "execution_count": 28,
   "id": "b45a7794-122c-4973-af1e-03564948713a",
   "metadata": {},
   "outputs": [
    {
     "name": "stdout",
     "output_type": "stream",
     "text": [
      "TypeError\n",
      "can't multiply sequence by non-int of type 'str'\n"
     ]
    }
   ],
   "source": [
    "test('s','s')"
   ]
  },
  {
   "cell_type": "code",
   "execution_count": 29,
   "id": "1e687f43-d162-4364-aa49-4199280773ad",
   "metadata": {},
   "outputs": [],
   "source": [
    "# FileNotFoundError Handling"
   ]
  },
  {
   "cell_type": "code",
   "execution_count": 31,
   "id": "8d68a63d-f7e9-476a-b0c1-5a4f423b74d3",
   "metadata": {},
   "outputs": [
    {
     "name": "stdout",
     "output_type": "stream",
     "text": [
      "FileNotFoundError\n",
      "[Errno 2] No such file or directory: 'gau.txt'\n",
      "Done!\n"
     ]
    }
   ],
   "source": [
    "try:\n",
    "    f = open(\"gau.txt\", mode = 'r')\n",
    "    f.read()\n",
    "except Exception as e:\n",
    "    print(\"FileNotFoundError\")\n",
    "    print(e)\n",
    "finally:\n",
    "    print('Done!')"
   ]
  },
  {
   "cell_type": "code",
   "execution_count": null,
   "id": "f6d0aba4-ff91-4d7f-9800-f9234bbc5afa",
   "metadata": {},
   "outputs": [],
   "source": []
  }
 ],
 "metadata": {
  "kernelspec": {
   "display_name": "Python [conda env:base] *",
   "language": "python",
   "name": "conda-base-py"
  },
  "language_info": {
   "codemirror_mode": {
    "name": "ipython",
    "version": 3
   },
   "file_extension": ".py",
   "mimetype": "text/x-python",
   "name": "python",
   "nbconvert_exporter": "python",
   "pygments_lexer": "ipython3",
   "version": "3.12.7"
  }
 },
 "nbformat": 4,
 "nbformat_minor": 5
}
