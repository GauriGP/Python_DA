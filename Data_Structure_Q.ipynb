{
 "cells": [
  {
   "cell_type": "markdown",
   "id": "6fdb7317-15f6-4cfc-8fea-d0c1d116fba7",
   "metadata": {},
   "source": [
    "## List"
   ]
  },
  {
   "cell_type": "code",
   "execution_count": 2,
   "id": "3872138a-d39c-47ee-b44f-be41505bd6a9",
   "metadata": {},
   "outputs": [],
   "source": [
    "l = [1,2,3,4,5]"
   ]
  },
  {
   "cell_type": "code",
   "execution_count": 3,
   "id": "0100e52f-acf4-43aa-a3b6-828bdec78ec9",
   "metadata": {},
   "outputs": [
    {
     "data": {
      "text/plain": [
       "[1, 2, 3, 4, 5, 6]"
      ]
     },
     "execution_count": 3,
     "metadata": {},
     "output_type": "execute_result"
    }
   ],
   "source": [
    "# Append a new number.\n",
    "l.append(6)\n",
    "l"
   ]
  },
  {
   "cell_type": "code",
   "execution_count": 4,
   "id": "aaddf571-0930-4b8c-9b69-42fd649f45b6",
   "metadata": {},
   "outputs": [
    {
     "data": {
      "text/plain": [
       "[1, 8, 2, 3, 4, 5, 6]"
      ]
     },
     "execution_count": 4,
     "metadata": {},
     "output_type": "execute_result"
    }
   ],
   "source": [
    "# Insert a number at a specific index\n",
    "l.insert(1,8)\n",
    "l"
   ]
  },
  {
   "cell_type": "code",
   "execution_count": 5,
   "id": "c0753dea-ce81-4fe8-8f70-50599f4812b6",
   "metadata": {},
   "outputs": [
    {
     "data": {
      "text/plain": [
       "[1, 2, 3]"
      ]
     },
     "execution_count": 5,
     "metadata": {},
     "output_type": "execute_result"
    }
   ],
   "source": [
    "# Remove duplicates and print the final list\n",
    "l1 = [1,1,2,2,3,3]\n",
    "l2 = list(set(l1))\n",
    "l2"
   ]
  },
  {
   "cell_type": "markdown",
   "id": "c3fc3354-1965-4423-be53-818a63dddc63",
   "metadata": {},
   "source": [
    "## Tuple"
   ]
  },
  {
   "cell_type": "code",
   "execution_count": 7,
   "id": "108b2ecf-d885-4a6c-adbe-ca66d95ceec6",
   "metadata": {},
   "outputs": [],
   "source": [
    "# Define a tuple of 5 colors.\n",
    "t = ('blue','black','red','green','brown')"
   ]
  },
  {
   "cell_type": "code",
   "execution_count": 9,
   "id": "9204c752-0937-4b86-b15b-2fc9eefc4f32",
   "metadata": {},
   "outputs": [
    {
     "ename": "TypeError",
     "evalue": "'tuple' object does not support item assignment",
     "output_type": "error",
     "traceback": [
      "\u001b[1;31m---------------------------------------------------------------------------\u001b[0m",
      "\u001b[1;31mTypeError\u001b[0m                                 Traceback (most recent call last)",
      "Cell \u001b[1;32mIn[9], line 2\u001b[0m\n\u001b[0;32m      1\u001b[0m \u001b[38;5;66;03m# Try to add a new color to the tuple (observe and explain why it fails).\u001b[39;00m\n\u001b[1;32m----> 2\u001b[0m t[\u001b[38;5;241m0\u001b[39m] \u001b[38;5;241m=\u001b[39m \u001b[38;5;124m'\u001b[39m\u001b[38;5;124mwhite\u001b[39m\u001b[38;5;124m'\u001b[39m\n",
      "\u001b[1;31mTypeError\u001b[0m: 'tuple' object does not support item assignment"
     ]
    }
   ],
   "source": [
    "# Try to add a new color to the tuple (observe and explain why it fails).\n",
    "t[0] = 'white'"
   ]
  },
  {
   "cell_type": "code",
   "execution_count": 10,
   "id": "377ca754-1612-4a1a-9cdf-97e0cfa8eaa5",
   "metadata": {},
   "outputs": [],
   "source": [
    "# tuple is immutable means we can not add new value once tuple is define"
   ]
  },
  {
   "cell_type": "code",
   "execution_count": 11,
   "id": "f165232e-4f0a-4912-bd9d-bf371acc4484",
   "metadata": {},
   "outputs": [
    {
     "data": {
      "text/plain": [
       "list"
      ]
     },
     "execution_count": 11,
     "metadata": {},
     "output_type": "execute_result"
    }
   ],
   "source": [
    "# Convert the tuple to a list, add the color, and convert it back to a tuple\n",
    "t1 =list(t)\n",
    "type(t1)"
   ]
  },
  {
   "cell_type": "code",
   "execution_count": 12,
   "id": "57e93845-96b6-4ae1-87b5-b7e500ef52ed",
   "metadata": {},
   "outputs": [
    {
     "data": {
      "text/plain": [
       "['blue', 'black', 'red', 'green', 'brown', 'white']"
      ]
     },
     "execution_count": 12,
     "metadata": {},
     "output_type": "execute_result"
    }
   ],
   "source": [
    "t1.append('white')\n",
    "t1"
   ]
  },
  {
   "cell_type": "code",
   "execution_count": 13,
   "id": "9c6f8634-e489-4c38-8aec-7d852ff3e3ed",
   "metadata": {},
   "outputs": [
    {
     "data": {
      "text/plain": [
       "tuple"
      ]
     },
     "execution_count": 13,
     "metadata": {},
     "output_type": "execute_result"
    }
   ],
   "source": [
    "t = tuple(t1)\n",
    "type(t)"
   ]
  },
  {
   "cell_type": "code",
   "execution_count": 14,
   "id": "1170ee1a-0aab-41d2-8b4c-737589ad5890",
   "metadata": {},
   "outputs": [
    {
     "data": {
      "text/plain": [
       "('blue', 'black', 'red', 'green', 'brown', 'white')"
      ]
     },
     "execution_count": 14,
     "metadata": {},
     "output_type": "execute_result"
    }
   ],
   "source": [
    "t"
   ]
  },
  {
   "cell_type": "markdown",
   "id": "ba0182b1-1bca-4129-99a0-25b69ac33bdb",
   "metadata": {},
   "source": [
    "## Set"
   ]
  },
  {
   "cell_type": "code",
   "execution_count": 1,
   "id": "94c5ab7d-b7de-4fbc-8f33-7eafc37b842a",
   "metadata": {},
   "outputs": [],
   "source": [
    "# Create two sets of random numbers."
   ]
  },
  {
   "cell_type": "code",
   "execution_count": 6,
   "id": "bf6a9bc7-8c97-43ab-b298-e1a679058f59",
   "metadata": {},
   "outputs": [],
   "source": [
    "s1 = {1,2,3,4}\n",
    "s2 = {4,5,6}"
   ]
  },
  {
   "cell_type": "code",
   "execution_count": 3,
   "id": "277adfc4-6b25-4f38-b642-9fa830caa0e0",
   "metadata": {},
   "outputs": [],
   "source": [
    "# Find and print their union, intersection, and difference"
   ]
  },
  {
   "cell_type": "code",
   "execution_count": 7,
   "id": "5f001376-9bdb-4454-a920-ce31a5346965",
   "metadata": {},
   "outputs": [
    {
     "data": {
      "text/plain": [
       "{1, 2, 3, 4, 5, 6}"
      ]
     },
     "execution_count": 7,
     "metadata": {},
     "output_type": "execute_result"
    }
   ],
   "source": [
    "s1.union(s2)"
   ]
  },
  {
   "cell_type": "code",
   "execution_count": 8,
   "id": "628b4525-725a-4a2b-a03b-6265769b8094",
   "metadata": {},
   "outputs": [
    {
     "data": {
      "text/plain": [
       "{4}"
      ]
     },
     "execution_count": 8,
     "metadata": {},
     "output_type": "execute_result"
    }
   ],
   "source": [
    "s1.intersection(s2)"
   ]
  },
  {
   "cell_type": "code",
   "execution_count": 9,
   "id": "08be8def-a6cb-4614-8647-6b9d200678e5",
   "metadata": {},
   "outputs": [
    {
     "data": {
      "text/plain": [
       "{1, 2, 3}"
      ]
     },
     "execution_count": 9,
     "metadata": {},
     "output_type": "execute_result"
    }
   ],
   "source": [
    "s1.difference(s2)"
   ]
  },
  {
   "cell_type": "code",
   "execution_count": 11,
   "id": "50e990fd-3ab9-4180-8005-74ec00eb9773",
   "metadata": {},
   "outputs": [
    {
     "data": {
      "text/plain": [
       "{5, 6}"
      ]
     },
     "execution_count": 11,
     "metadata": {},
     "output_type": "execute_result"
    }
   ],
   "source": [
    "s2.difference(s1)"
   ]
  },
  {
   "cell_type": "code",
   "execution_count": 12,
   "id": "192a573c-f5a4-484e-875c-2341e5731ac7",
   "metadata": {},
   "outputs": [],
   "source": [
    "# Remove one element from the first set and add a new element."
   ]
  },
  {
   "cell_type": "code",
   "execution_count": 13,
   "id": "1898e844-186d-4f9c-8d55-872251f7f32a",
   "metadata": {},
   "outputs": [],
   "source": [
    "s1.remove(3)"
   ]
  },
  {
   "cell_type": "code",
   "execution_count": 14,
   "id": "3483cece-e5b3-47f2-9f48-0b9c91db2099",
   "metadata": {},
   "outputs": [
    {
     "data": {
      "text/plain": [
       "{1, 2, 4}"
      ]
     },
     "execution_count": 14,
     "metadata": {},
     "output_type": "execute_result"
    }
   ],
   "source": [
    "s1"
   ]
  },
  {
   "cell_type": "code",
   "execution_count": 16,
   "id": "12e05203-4f42-4ee1-84e4-c5cf8e7ba432",
   "metadata": {},
   "outputs": [],
   "source": [
    "s1.add(5)"
   ]
  },
  {
   "cell_type": "code",
   "execution_count": 17,
   "id": "b5d4c360-b0e5-42dc-9145-d510762aade9",
   "metadata": {},
   "outputs": [
    {
     "data": {
      "text/plain": [
       "{1, 2, 4, 5}"
      ]
     },
     "execution_count": 17,
     "metadata": {},
     "output_type": "execute_result"
    }
   ],
   "source": [
    "s1"
   ]
  },
  {
   "cell_type": "markdown",
   "id": "cc239d2a-b343-4fd6-b1ca-7e76dd63f9d4",
   "metadata": {},
   "source": [
    "## Dictionary"
   ]
  },
  {
   "cell_type": "code",
   "execution_count": 19,
   "id": "1cf70ff8-80bf-4827-9428-4fdc7ae176cc",
   "metadata": {},
   "outputs": [],
   "source": [
    "# Define a dictionary for a library system with book titles as keys and available copies as values."
   ]
  },
  {
   "cell_type": "code",
   "execution_count": 20,
   "id": "270e8b21-5768-41f4-a426-4bed7695249b",
   "metadata": {},
   "outputs": [
    {
     "data": {
      "text/plain": [
       "{'book1': 3, 'book2': 6, 'book3': 4, 'book4': 2}"
      ]
     },
     "execution_count": 20,
     "metadata": {},
     "output_type": "execute_result"
    }
   ],
   "source": [
    "D = {\"book1\" : 3,\n",
    "     \"book2\" : 6,\n",
    "     \"book3\" : 4,\n",
    "     \"book4\" : 2}\n",
    "D"
   ]
  },
  {
   "cell_type": "code",
   "execution_count": 21,
   "id": "7f5e7ad5-1547-4497-8c80-870dc6ab1a64",
   "metadata": {},
   "outputs": [],
   "source": [
    "# Update the count of a specific book after it is borrowed"
   ]
  },
  {
   "cell_type": "code",
   "execution_count": 22,
   "id": "f3fa4112-2382-4305-90ee-0f135339f53f",
   "metadata": {},
   "outputs": [],
   "source": [
    "D[\"book1\"] = 2"
   ]
  },
  {
   "cell_type": "code",
   "execution_count": 23,
   "id": "9d937fac-b927-4163-ab7e-35bfd201b96d",
   "metadata": {},
   "outputs": [
    {
     "data": {
      "text/plain": [
       "{'book1': 2, 'book2': 6, 'book3': 4, 'book4': 2}"
      ]
     },
     "execution_count": 23,
     "metadata": {},
     "output_type": "execute_result"
    }
   ],
   "source": [
    "D"
   ]
  },
  {
   "cell_type": "code",
   "execution_count": 24,
   "id": "adbde9d4-5d30-4c08-94f7-e48025050b61",
   "metadata": {},
   "outputs": [],
   "source": [
    "# Add a new book to the dictionary and print the updated dictionary."
   ]
  },
  {
   "cell_type": "code",
   "execution_count": 25,
   "id": "a02d5191-990b-4ac3-8904-b6a9712f999e",
   "metadata": {},
   "outputs": [
    {
     "data": {
      "text/plain": [
       "{'book1': 2, 'book2': 6, 'book3': 4, 'book4': 2, 'book5': 1}"
      ]
     },
     "execution_count": 25,
     "metadata": {},
     "output_type": "execute_result"
    }
   ],
   "source": [
    "D[\"book5\"] = 1\n",
    "D"
   ]
  }
 ],
 "metadata": {
  "kernelspec": {
   "display_name": "Python [conda env:base] *",
   "language": "python",
   "name": "conda-base-py"
  },
  "language_info": {
   "codemirror_mode": {
    "name": "ipython",
    "version": 3
   },
   "file_extension": ".py",
   "mimetype": "text/x-python",
   "name": "python",
   "nbconvert_exporter": "python",
   "pygments_lexer": "ipython3",
   "version": "3.12.7"
  }
 },
 "nbformat": 4,
 "nbformat_minor": 5
}
