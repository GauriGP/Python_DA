{
 "cells": [
  {
   "cell_type": "code",
   "execution_count": 3,
   "id": "09723382-6b68-4008-a1be-1309ef0ef661",
   "metadata": {},
   "outputs": [],
   "source": [
    "def even_odd(a):\n",
    "    if a%2 == 0:\n",
    "        return \"even\"\n",
    "    else:\n",
    "        return \"odd\""
   ]
  },
  {
   "cell_type": "code",
   "execution_count": 4,
   "id": "6e8ce9f9-f491-4e31-abcf-efe520a3975f",
   "metadata": {},
   "outputs": [
    {
     "data": {
      "text/plain": [
       "'even'"
      ]
     },
     "execution_count": 4,
     "metadata": {},
     "output_type": "execute_result"
    }
   ],
   "source": [
    "even_odd(2)"
   ]
  },
  {
   "cell_type": "code",
   "execution_count": 9,
   "id": "dde79c25-251d-48e8-b2e8-f84ed909d14d",
   "metadata": {},
   "outputs": [],
   "source": [
    "def name(x):\n",
    "    return x[::-1]"
   ]
  },
  {
   "cell_type": "code",
   "execution_count": 10,
   "id": "5acb1029-6586-4935-97e7-98a0a2a73678",
   "metadata": {},
   "outputs": [
    {
     "data": {
      "text/plain": [
       "'ghag'"
      ]
     },
     "execution_count": 10,
     "metadata": {},
     "output_type": "execute_result"
    }
   ],
   "source": [
    "name(\"gahg\")"
   ]
  },
  {
   "cell_type": "code",
   "execution_count": 12,
   "id": "44374beb-df37-480c-b84b-9473377fbca1",
   "metadata": {},
   "outputs": [],
   "source": [
    "def sum(a,b,c):\n",
    "    return a+b+c"
   ]
  },
  {
   "cell_type": "code",
   "execution_count": 13,
   "id": "6c114bbc-f99e-45df-997f-320a2c43c572",
   "metadata": {},
   "outputs": [
    {
     "data": {
      "text/plain": [
       "9"
      ]
     },
     "execution_count": 13,
     "metadata": {},
     "output_type": "execute_result"
    }
   ],
   "source": [
    "sum(2,3,4)"
   ]
  },
  {
   "cell_type": "code",
   "execution_count": 20,
   "id": "6eeac94d-c326-440a-a7c5-f63c42d1ef45",
   "metadata": {},
   "outputs": [],
   "source": [
    "def test(*args):\n",
    "    a = []\n",
    "    for i in args:\n",
    "        if type (i) == int:\n",
    "            a.append(i)\n",
    "    return a"
   ]
  },
  {
   "cell_type": "code",
   "execution_count": 21,
   "id": "4b10d29d-dd68-4831-8300-669fe0c36b9b",
   "metadata": {},
   "outputs": [
    {
     "data": {
      "text/plain": [
       "[1, 2]"
      ]
     },
     "execution_count": 21,
     "metadata": {},
     "output_type": "execute_result"
    }
   ],
   "source": [
    "test(1,2,'gdt',True)"
   ]
  },
  {
   "cell_type": "code",
   "execution_count": 25,
   "id": "ac175ae7-6262-4da3-a7be-6800d8c9c3cf",
   "metadata": {},
   "outputs": [
    {
     "name": "stdout",
     "output_type": "stream",
     "text": [
      "[1, 2, 3, 10, 20, 30, 6, 7]\n"
     ]
    }
   ],
   "source": [
    "l = [1,2,3,1.5,'Hello',[10,20,30,1.5,'Python'],6,7]\n",
    "f = []\n",
    "for i in l:\n",
    "    if type(i) == int:\n",
    "        f.append(i)\n",
    "    elif type(i) == list:\n",
    "        for a in i:\n",
    "            if type(a) == int:\n",
    "                f.append(a)\n",
    "print(f)\n",
    "        \n",
    "    "
   ]
  },
  {
   "cell_type": "code",
   "execution_count": 1,
   "id": "7efabe88-3459-4195-832f-8e0c339b0815",
   "metadata": {},
   "outputs": [],
   "source": [
    "# Write a function that takes a name as input and prints a greeting: greet(\"Alice\") ➝ Hello, Alice!"
   ]
  },
  {
   "cell_type": "code",
   "execution_count": 4,
   "id": "1b8d4b7f-8a31-463c-8748-a00bc4c80e28",
   "metadata": {},
   "outputs": [],
   "source": [
    "def greet(n):\n",
    "    print(\"Hello,\",n)"
   ]
  },
  {
   "cell_type": "code",
   "execution_count": 5,
   "id": "5dd03b85-96a0-48ea-a2d4-a9d5f79ce28c",
   "metadata": {},
   "outputs": [
    {
     "name": "stdout",
     "output_type": "stream",
     "text": [
      "Hello, Alice\n"
     ]
    }
   ],
   "source": [
    "greet(\"Alice\")"
   ]
  },
  {
   "cell_type": "code",
   "execution_count": 6,
   "id": "aefe4296-66b5-4457-8c66-6d53a8e79e87",
   "metadata": {},
   "outputs": [],
   "source": [
    "# Write a function to find the square of a number."
   ]
  },
  {
   "cell_type": "code",
   "execution_count": 7,
   "id": "1ded8cb1-efae-434a-9de8-9c7ac757f432",
   "metadata": {},
   "outputs": [],
   "source": [
    "def squre(x):\n",
    "    s = x*x\n",
    "    print(s)"
   ]
  },
  {
   "cell_type": "code",
   "execution_count": 8,
   "id": "91410b0e-e0b2-4be7-8cf1-f59519b683e4",
   "metadata": {},
   "outputs": [
    {
     "name": "stdout",
     "output_type": "stream",
     "text": [
      "16\n"
     ]
    }
   ],
   "source": [
    "squre(4)"
   ]
  },
  {
   "cell_type": "code",
   "execution_count": 9,
   "id": "ba55e386-e7a0-4f89-b90a-e88f875b8458",
   "metadata": {},
   "outputs": [],
   "source": [
    "# Write a function that takes two numbers and returns the greater one."
   ]
  },
  {
   "cell_type": "code",
   "execution_count": 10,
   "id": "72ab0e98-a759-4a67-aef6-7c0b6f198968",
   "metadata": {},
   "outputs": [],
   "source": [
    "def g(a,b):\n",
    "    if a>b:\n",
    "        print(a)\n",
    "    else:\n",
    "        print(b)"
   ]
  },
  {
   "cell_type": "code",
   "execution_count": 11,
   "id": "f4592524-ab87-4624-8c9f-c6be854bf66e",
   "metadata": {},
   "outputs": [
    {
     "name": "stdout",
     "output_type": "stream",
     "text": [
      "5\n"
     ]
    }
   ],
   "source": [
    "g(5,2)"
   ]
  },
  {
   "cell_type": "code",
   "execution_count": 12,
   "id": "ec8d8b93-f500-43e6-8a87-89183b93feef",
   "metadata": {},
   "outputs": [
    {
     "name": "stdout",
     "output_type": "stream",
     "text": [
      "9\n"
     ]
    }
   ],
   "source": [
    "g(8,9)"
   ]
  },
  {
   "cell_type": "code",
   "execution_count": 13,
   "id": "d4fe4a1d-d66f-47e4-929e-3451e149db47",
   "metadata": {},
   "outputs": [],
   "source": [
    "# Write a function to check if a number is even or odd."
   ]
  },
  {
   "cell_type": "code",
   "execution_count": 16,
   "id": "d751a5f5-7ab1-4920-bb6d-b80af454fb65",
   "metadata": {},
   "outputs": [],
   "source": [
    "def e_o(x):\n",
    "    if x%2 == 0:\n",
    "        print(\"Even\")\n",
    "    else:\n",
    "        print(\"Odd\")"
   ]
  },
  {
   "cell_type": "code",
   "execution_count": 17,
   "id": "d5b79c72-fec5-4ea3-86ea-8e501c066fd3",
   "metadata": {},
   "outputs": [
    {
     "name": "stdout",
     "output_type": "stream",
     "text": [
      "Odd\n"
     ]
    }
   ],
   "source": [
    "e_o(5)"
   ]
  },
  {
   "cell_type": "code",
   "execution_count": 18,
   "id": "2bcee490-a86e-4f83-95a2-43162b584fd4",
   "metadata": {},
   "outputs": [
    {
     "name": "stdout",
     "output_type": "stream",
     "text": [
      "Even\n"
     ]
    }
   ],
   "source": [
    "e_o(8)"
   ]
  },
  {
   "cell_type": "code",
   "execution_count": 19,
   "id": "2bfcfd28-9b1a-4233-946d-005aeb188555",
   "metadata": {},
   "outputs": [],
   "source": [
    "# Write a function that returns the length of a given string."
   ]
  },
  {
   "cell_type": "code",
   "execution_count": 41,
   "id": "5c10713a-449b-47d5-80a3-f8278985d28c",
   "metadata": {},
   "outputs": [],
   "source": [
    "def ls(s):\n",
    "    count = 0\n",
    "    for i in s:\n",
    "        count += 1\n",
    "    return count"
   ]
  },
  {
   "cell_type": "code",
   "execution_count": 43,
   "id": "664c1b81-e002-498b-b474-9311b085c11f",
   "metadata": {},
   "outputs": [
    {
     "data": {
      "text/plain": [
       "5"
      ]
     },
     "execution_count": 43,
     "metadata": {},
     "output_type": "execute_result"
    }
   ],
   "source": [
    "ls(\"vaish\")"
   ]
  },
  {
   "cell_type": "code",
   "execution_count": 44,
   "id": "872bff64-699e-4e30-8519-ff60cd862c09",
   "metadata": {},
   "outputs": [],
   "source": [
    "def lenth(s):\n",
    "    return len(s)"
   ]
  },
  {
   "cell_type": "code",
   "execution_count": 45,
   "id": "535a567a-9c9c-4eb6-95f3-19b18477f493",
   "metadata": {},
   "outputs": [
    {
     "data": {
      "text/plain": [
       "5"
      ]
     },
     "execution_count": 45,
     "metadata": {},
     "output_type": "execute_result"
    }
   ],
   "source": [
    "lenth(\"gdhst\")"
   ]
  },
  {
   "cell_type": "code",
   "execution_count": 1,
   "id": "b0802a14-3d32-476e-b171-c0676a51219b",
   "metadata": {},
   "outputs": [],
   "source": [
    "# Write a function that returns the factorial of a number using recursion."
   ]
  },
  {
   "cell_type": "code",
   "execution_count": 12,
   "id": "30b1497f-e7ea-4657-9e25-cd25a0026255",
   "metadata": {},
   "outputs": [],
   "source": [
    "def factorial(x):\n",
    "    if x == 0 or x == 1:\n",
    "        return 1\n",
    "    return x * factorial(x -1)"
   ]
  },
  {
   "cell_type": "code",
   "execution_count": 13,
   "id": "af47cbbf-2cc6-4a58-9f35-25426e395c2b",
   "metadata": {},
   "outputs": [
    {
     "data": {
      "text/plain": [
       "120"
      ]
     },
     "execution_count": 13,
     "metadata": {},
     "output_type": "execute_result"
    }
   ],
   "source": [
    "factorial(5)"
   ]
  },
  {
   "cell_type": "code",
   "execution_count": 14,
   "id": "91213894-8d0c-4960-b405-448c36d084b8",
   "metadata": {},
   "outputs": [],
   "source": [
    "# Write a function that takes a list and returns the sum of all even numbers in it."
   ]
  },
  {
   "cell_type": "code",
   "execution_count": 27,
   "id": "c8178f16-b7ae-4b09-b1d6-251e0607ca97",
   "metadata": {},
   "outputs": [],
   "source": [
    "My_list = [1,2,3,4,5,6,7,8]\n",
    "def even(nums):\n",
    "    print(sum(num for num in nums if num %2 == 0))"
   ]
  },
  {
   "cell_type": "code",
   "execution_count": 28,
   "id": "6e0e2b4d-f94e-46c5-94e6-0306daa95fe6",
   "metadata": {},
   "outputs": [
    {
     "name": "stdout",
     "output_type": "stream",
     "text": [
      "20\n"
     ]
    }
   ],
   "source": [
    "even(My_list)"
   ]
  },
  {
   "cell_type": "code",
   "execution_count": 29,
   "id": "f65dc830-8373-4858-b3de-52f37ba2bcf2",
   "metadata": {},
   "outputs": [],
   "source": [
    "# Write a function that checks whether a string is a palindrome."
   ]
  },
  {
   "cell_type": "code",
   "execution_count": 32,
   "id": "07c9dc89-626b-4bb9-9d73-41fe12aab1bc",
   "metadata": {},
   "outputs": [],
   "source": [
    "def palindrome(Name):\n",
    "    if Name == Name[::-1]:\n",
    "        print(\"its a palindrome\")\n",
    "    else:\n",
    "        print(\"No palindrome\")"
   ]
  },
  {
   "cell_type": "code",
   "execution_count": 33,
   "id": "9ed50c60-de31-4b24-8642-96a2f16a89cf",
   "metadata": {},
   "outputs": [
    {
     "name": "stdout",
     "output_type": "stream",
     "text": [
      "its a palindrome\n"
     ]
    }
   ],
   "source": [
    "palindrome(\"nayan\")"
   ]
  },
  {
   "cell_type": "code",
   "execution_count": 34,
   "id": "afefd0bf-1fb8-48c8-b0f2-d23e4b733ae2",
   "metadata": {},
   "outputs": [
    {
     "name": "stdout",
     "output_type": "stream",
     "text": [
      "No palindrome\n"
     ]
    }
   ],
   "source": [
    "palindrome(\"vaish\")"
   ]
  },
  {
   "cell_type": "code",
   "execution_count": 35,
   "id": "d33512aa-c3da-4227-85ab-0d1808c69ff2",
   "metadata": {},
   "outputs": [],
   "source": [
    "# Write a function that takes a number and returns a list of its divisors."
   ]
  },
  {
   "cell_type": "code",
   "execution_count": 40,
   "id": "bd0f54d3-57d3-4c31-a91d-8b2f16ba795f",
   "metadata": {},
   "outputs": [],
   "source": [
    "def numbers(n):\n",
    "    l = []\n",
    "    for i in range(1, n+1):\n",
    "        if n % i == 0:\n",
    "            l.append(i)\n",
    "    return l"
   ]
  },
  {
   "cell_type": "code",
   "execution_count": 42,
   "id": "2a627c35-2581-42b9-9848-004374514cb7",
   "metadata": {},
   "outputs": [
    {
     "data": {
      "text/plain": [
       "[1, 2, 3, 4, 6, 12]"
      ]
     },
     "execution_count": 42,
     "metadata": {},
     "output_type": "execute_result"
    }
   ],
   "source": [
    "numbers(12)"
   ]
  },
  {
   "cell_type": "code",
   "execution_count": 43,
   "id": "8cd318b1-f1d2-4f24-9c02-11e217e6885f",
   "metadata": {},
   "outputs": [],
   "source": [
    "# Write a function that accepts *args and returns their average."
   ]
  },
  {
   "cell_type": "code",
   "execution_count": 58,
   "id": "c4ba8db1-373c-4c7a-be05-1e3aa55bafb8",
   "metadata": {},
   "outputs": [],
   "source": [
    "def test(*args):\n",
    "    return sum(args)/len(args)"
   ]
  },
  {
   "cell_type": "code",
   "execution_count": 59,
   "id": "5b142bb9-ad05-4f07-9bd5-bf510dcfc9e8",
   "metadata": {},
   "outputs": [
    {
     "data": {
      "text/plain": [
       "2.5"
      ]
     },
     "execution_count": 59,
     "metadata": {},
     "output_type": "execute_result"
    }
   ],
   "source": [
    "test(1,2,3,4)"
   ]
  },
  {
   "cell_type": "code",
   "execution_count": 60,
   "id": "fefd8a19-e1e8-489d-a1c6-ed4458615241",
   "metadata": {},
   "outputs": [],
   "source": [
    "# Write a function that counts and returns the number of vowels in a given string."
   ]
  },
  {
   "cell_type": "code",
   "execution_count": 94,
   "id": "030ed7c2-20d2-4cc9-83fd-54ee654ed437",
   "metadata": {},
   "outputs": [],
   "source": [
    "def vowels(s):\n",
    "    vowel = \"aieouAIEOU\"\n",
    "    count = 0\n",
    "    for char in s:\n",
    "        if char in vowel:\n",
    "            count += 1\n",
    "    return count"
   ]
  },
  {
   "cell_type": "code",
   "execution_count": 95,
   "id": "7dc037f0-5fb2-4c6b-be39-638be8e7349c",
   "metadata": {},
   "outputs": [
    {
     "data": {
      "text/plain": [
       "2"
      ]
     },
     "execution_count": 95,
     "metadata": {},
     "output_type": "execute_result"
    }
   ],
   "source": [
    "vowels(\"vaish\")"
   ]
  },
  {
   "cell_type": "code",
   "execution_count": 96,
   "id": "502da619-a8cb-45ce-afdf-034708dbd4d8",
   "metadata": {},
   "outputs": [],
   "source": [
    "# Write a function that takes a sentence and returns the most frequent word. ----------solved with the help of chatgpt"
   ]
  },
  {
   "cell_type": "code",
   "execution_count": 5,
   "id": "2ca27d1f-1e4b-48ea-9cf2-842a91262e04",
   "metadata": {},
   "outputs": [],
   "source": [
    "def m_f_w(sentence):\n",
    "    words = sentence.split()\n",
    "    if not words:\n",
    "        return None\n",
    "    common_word = words[0]\n",
    "    word_count = words.count(common_word)\n",
    "    for word in words[1:]:\n",
    "        count = words.count(word)\n",
    "        if count > word_count:\n",
    "            common_word = word\n",
    "            word_count = count\n",
    "        return common_word"
   ]
  },
  {
   "cell_type": "code",
   "execution_count": 7,
   "id": "a0989af2-d4e2-47b7-a8bf-fd10a2e2ebed",
   "metadata": {},
   "outputs": [
    {
     "data": {
      "text/plain": [
       "'hello'"
      ]
     },
     "execution_count": 7,
     "metadata": {},
     "output_type": "execute_result"
    }
   ],
   "source": [
    "m_f_w('hello this is my hello sentence that hello is used')"
   ]
  },
  {
   "cell_type": "code",
   "execution_count": 16,
   "id": "f2670409-f361-47e8-ac1f-0043be41a346",
   "metadata": {},
   "outputs": [],
   "source": [
    "# Write a function to reverse each word in a sentence but keep the word order: \"hello world\" ➝ \"olleh dlrow\""
   ]
  },
  {
   "cell_type": "code",
   "execution_count": 47,
   "id": "5ab78bba-37b6-47ac-9c1a-872ff9205706",
   "metadata": {},
   "outputs": [],
   "source": [
    "def reverse_word(sentence):\n",
    "    words = sentence.split()\n",
    "    reverse_word = []\n",
    "    for word in words:\n",
    "        reverse_word.append(word[::-1])\n",
    "    return reverse_word"
   ]
  },
  {
   "cell_type": "code",
   "execution_count": 48,
   "id": "dfbb7e36-a78a-4c94-a190-b3dc26c9a3f8",
   "metadata": {},
   "outputs": [
    {
     "data": {
      "text/plain": [
       "['olleh', 'dlrow']"
      ]
     },
     "execution_count": 48,
     "metadata": {},
     "output_type": "execute_result"
    }
   ],
   "source": [
    "reverse_word(\"hello world\")"
   ]
  },
  {
   "cell_type": "code",
   "execution_count": 17,
   "id": "34f7891f-32ce-496c-a1ae-abc3db9434fb",
   "metadata": {},
   "outputs": [],
   "source": [
    "# Write a function that accepts a list of integers and returns a list of only unique values."
   ]
  },
  {
   "cell_type": "code",
   "execution_count": 79,
   "id": "aa40b887-4dbe-4d5f-8203-e60f82a4984f",
   "metadata": {},
   "outputs": [],
   "source": [
    "def unique_values(lst):\n",
    "    unique = []\n",
    "    for value in lst:\n",
    "        if value not in unique:\n",
    "            unique.append(value)\n",
    "    return unique"
   ]
  },
  {
   "cell_type": "code",
   "execution_count": 80,
   "id": "70fe894e-dd4e-4610-8403-3634b94bebd2",
   "metadata": {},
   "outputs": [
    {
     "data": {
      "text/plain": [
       "[1, 2, 3, 4]"
      ]
     },
     "execution_count": 80,
     "metadata": {},
     "output_type": "execute_result"
    }
   ],
   "source": [
    "unique_values([1,2,2,3,4,4])"
   ]
  },
  {
   "cell_type": "code",
   "execution_count": 85,
   "id": "dd67338c-a5f0-4856-8703-11fcf991a518",
   "metadata": {},
   "outputs": [
    {
     "name": "stdout",
     "output_type": "stream",
     "text": [
      "[1, 2, 3, 4, 5]\n"
     ]
    }
   ],
   "source": [
    "lst = [1,1,2,3,3,4,5]\n",
    "lst = list(set(lst))\n",
    "print(lst)"
   ]
  },
  {
   "cell_type": "code",
   "execution_count": 110,
   "id": "abcbf603-7084-49d5-864d-febc3ece4d0f",
   "metadata": {},
   "outputs": [],
   "source": [
    "# Write a function that generates a Fibonacci series up to a given n terms. ----------solved with the help of chatgpt"
   ]
  },
  {
   "cell_type": "code",
   "execution_count": 108,
   "id": "8450fa2c-9a6f-47a5-bf70-f1dfb8b44714",
   "metadata": {},
   "outputs": [],
   "source": [
    "def fibonacci(n):\n",
    "    fib_seq = []\n",
    "    a,b = 0,1\n",
    "    for i in range(n):\n",
    "        fib_seq.append(a)\n",
    "        a,b = b,a+b\n",
    "    return fib_seq"
   ]
  },
  {
   "cell_type": "code",
   "execution_count": 109,
   "id": "da0937a0-32ea-4cc9-a83e-712d7ee9f4f7",
   "metadata": {},
   "outputs": [
    {
     "data": {
      "text/plain": [
       "[0, 1, 1, 2, 3, 5, 8, 13]"
      ]
     },
     "execution_count": 109,
     "metadata": {},
     "output_type": "execute_result"
    }
   ],
   "source": [
    "fibonacci(8)"
   ]
  },
  {
   "cell_type": "code",
   "execution_count": null,
   "id": "a64d4da5-c94a-42b3-8ebe-7024edd4cafa",
   "metadata": {},
   "outputs": [],
   "source": []
  }
 ],
 "metadata": {
  "kernelspec": {
   "display_name": "Python [conda env:base] *",
   "language": "python",
   "name": "conda-base-py"
  },
  "language_info": {
   "codemirror_mode": {
    "name": "ipython",
    "version": 3
   },
   "file_extension": ".py",
   "mimetype": "text/x-python",
   "name": "python",
   "nbconvert_exporter": "python",
   "pygments_lexer": "ipython3",
   "version": "3.12.7"
  }
 },
 "nbformat": 4,
 "nbformat_minor": 5
}
