{
 "cells": [
  {
   "cell_type": "code",
   "execution_count": 1,
   "id": "8a5d0bf6-0f89-49fc-8bce-89dcd18128a1",
   "metadata": {},
   "outputs": [],
   "source": [
    "import logging"
   ]
  },
  {
   "cell_type": "code",
   "execution_count": 2,
   "id": "1a0363a2-0bb8-4fb8-90ec-4c46e2be949c",
   "metadata": {},
   "outputs": [],
   "source": [
    "logging.basicConfig(filename = 'log_q.log',level = logging.DEBUG, format = '%(asctime)s - %(levelname)s - %(message)s')"
   ]
  },
  {
   "cell_type": "code",
   "execution_count": 4,
   "id": "52fb297e-1de5-4add-9a03-9424227aefa7",
   "metadata": {},
   "outputs": [
    {
     "name": "stdin",
     "output_type": "stream",
     "text": [
      "Index is  7\n"
     ]
    }
   ],
   "source": [
    "lst = [1,2,3,4,5]\n",
    "try:\n",
    "    logging.info('Printing list item ')\n",
    "    logging.info(f'list is {lst}')\n",
    "    index = int(input('Index is '))\n",
    "    logging.info({lst[index]})\n",
    "except Exception as e:\n",
    "    logging.error(e)"
   ]
  },
  {
   "cell_type": "code",
   "execution_count": 5,
   "id": "6b6478d6-0739-41ef-994c-6fb6372ff886",
   "metadata": {},
   "outputs": [],
   "source": [
    "def add(a,b):\n",
    "    try:\n",
    "        logging.info('Function to add numbers')\n",
    "        logging.info(f'add {a} to {b}')\n",
    "        result = a+b\n",
    "        logging.info(f'answer is {result}')\n",
    "    except Exception as e:\n",
    "        logging.info(\"Value Error occurs\")\n",
    "        logging.error(e)"
   ]
  },
  {
   "cell_type": "code",
   "execution_count": 6,
   "id": "0908a847-5611-4b2d-819c-af13ee8f34cd",
   "metadata": {},
   "outputs": [],
   "source": [
    "add(3,'as')"
   ]
  },
  {
   "cell_type": "code",
   "execution_count": 7,
   "id": "91477b2f-175b-4377-a673-6579eac51d51",
   "metadata": {},
   "outputs": [],
   "source": [
    "def div(a,b):\n",
    "    try:\n",
    "        logging.info('Function to divide numbers')\n",
    "        logging.info(f'divide {a} to {b}')\n",
    "        result = a/b\n",
    "        logging.info(f'answer is {result}')\n",
    "    except Exception as e:\n",
    "        logging.info(\"Zero Division Error occurs\")\n",
    "        logging.error(e)"
   ]
  },
  {
   "cell_type": "code",
   "execution_count": 8,
   "id": "186023ad-fb9e-4d77-b4e8-b7e1b33bc66d",
   "metadata": {},
   "outputs": [],
   "source": [
    "div(6,0)"
   ]
  },
  {
   "cell_type": "code",
   "execution_count": 9,
   "id": "860bec85-8488-4e30-aa45-10cadaa8c32c",
   "metadata": {},
   "outputs": [],
   "source": [
    "div(6,2)"
   ]
  },
  {
   "cell_type": "code",
   "execution_count": 12,
   "id": "927c773c-9acc-4c53-9e18-0e24a4cdeed7",
   "metadata": {},
   "outputs": [],
   "source": [
    "def test(x,y):\n",
    "    try:\n",
    "        logging.info('Function to multiply numbers')\n",
    "        logging.info(f'multiply {x} to {y}')\n",
    "        result = x*y\n",
    "        logging.info(f'answer is {result}')\n",
    "    except Exception as e:\n",
    "        logging.info('TypeError')\n",
    "        logging.error(e)"
   ]
  },
  {
   "cell_type": "code",
   "execution_count": 13,
   "id": "71d79955-5360-4b4f-810f-936985cc7fa2",
   "metadata": {},
   "outputs": [],
   "source": [
    "test('s','d')"
   ]
  },
  {
   "cell_type": "code",
   "execution_count": 14,
   "id": "46b63705-a8d0-480b-a4b4-7dd809fe4d03",
   "metadata": {},
   "outputs": [],
   "source": [
    "test(5,6)"
   ]
  },
  {
   "cell_type": "code",
   "execution_count": 16,
   "id": "a5700d43-88e3-4f67-a699-769793257502",
   "metadata": {},
   "outputs": [],
   "source": [
    "try:\n",
    "    logging.info('opening file in read mode')\n",
    "    f = open(\"gau.txt\", mode = 'r')\n",
    "    f.read()\n",
    "except Exception as e:\n",
    "    logging.info(\"FileNotFoundError\")\n",
    "    logging.error(e)\n",
    "finally:\n",
    "    logging.info('Done!')"
   ]
  },
  {
   "cell_type": "code",
   "execution_count": null,
   "id": "935e8b8b-ce31-485d-b5f4-b2fed22f75d7",
   "metadata": {},
   "outputs": [],
   "source": []
  }
 ],
 "metadata": {
  "kernelspec": {
   "display_name": "Python [conda env:base] *",
   "language": "python",
   "name": "conda-base-py"
  },
  "language_info": {
   "codemirror_mode": {
    "name": "ipython",
    "version": 3
   },
   "file_extension": ".py",
   "mimetype": "text/x-python",
   "name": "python",
   "nbconvert_exporter": "python",
   "pygments_lexer": "ipython3",
   "version": "3.12.7"
  }
 },
 "nbformat": 4,
 "nbformat_minor": 5
}
