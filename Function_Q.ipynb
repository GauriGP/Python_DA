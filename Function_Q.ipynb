{
 "cells": [
  {
   "cell_type": "code",
   "execution_count": 1,
   "id": "f165950c-a23b-475f-a9bd-72779fd0600f",
   "metadata": {},
   "outputs": [],
   "source": [
    "# Q1: Write a function sum_numbers(a, b) that takes two numbers as input and does the following:\n",
    "# Prints the sum of the numbers.\n",
    "# Returns the sum of the numbers.\n",
    "# Call the function and explain the difference between the print and return values"
   ]
  },
  {
   "cell_type": "code",
   "execution_count": 12,
   "id": "147a64d3-bd51-4ebd-97a0-9f4c60428df0",
   "metadata": {},
   "outputs": [],
   "source": [
    "def sum_numbers(a,b):\n",
    "    sum = a+b\n",
    "    print(sum)"
   ]
  },
  {
   "cell_type": "code",
   "execution_count": 13,
   "id": "6952e3db-cc3d-4df5-8cd6-f3ba1db77fe6",
   "metadata": {},
   "outputs": [
    {
     "name": "stdout",
     "output_type": "stream",
     "text": [
      "9\n"
     ]
    }
   ],
   "source": [
    "sum_numbers(4,5)"
   ]
  },
  {
   "cell_type": "code",
   "execution_count": 5,
   "id": "5ecb8249-6315-4f52-a01e-0dbf0324f7ef",
   "metadata": {},
   "outputs": [],
   "source": [
    "def sum_numbers(a,b):\n",
    "    sum = a+b\n",
    "    return sum"
   ]
  },
  {
   "cell_type": "code",
   "execution_count": 6,
   "id": "0df19748-7a7f-49de-8bc9-6bad667d3248",
   "metadata": {},
   "outputs": [
    {
     "data": {
      "text/plain": [
       "7"
      ]
     },
     "execution_count": 6,
     "metadata": {},
     "output_type": "execute_result"
    }
   ],
   "source": [
    "sum_numbers(3,4)"
   ]
  },
  {
   "cell_type": "code",
   "execution_count": 14,
   "id": "7fd259ea-9491-4da6-98ce-d0a8491d1bb8",
   "metadata": {},
   "outputs": [],
   "source": [
    "# Q2: Write a program where:\n",
    "# You define a global variable counter with an initial value of 0.\n",
    "# Create a function increment() that increments counter by 1 each time it is called and prints its value.\n",
    "# Call the function three times and observe the output."
   ]
  },
  {
   "cell_type": "code",
   "execution_count": 25,
   "id": "9b933ddb-d540-4a2a-b09f-efedb1943260",
   "metadata": {},
   "outputs": [],
   "source": [
    "x = 0\n",
    "def increment():\n",
    "    global x\n",
    "    x+=1\n",
    "    print('counter-',x)"
   ]
  },
  {
   "cell_type": "code",
   "execution_count": 26,
   "id": "af52d373-483d-4a7e-9e24-79dd216ac40e",
   "metadata": {},
   "outputs": [
    {
     "name": "stdout",
     "output_type": "stream",
     "text": [
      "counter- 1\n"
     ]
    }
   ],
   "source": [
    "increment()"
   ]
  },
  {
   "cell_type": "code",
   "execution_count": 27,
   "id": "fb13a7ea-2eab-49f5-94bf-8b0bc5c14ca6",
   "metadata": {},
   "outputs": [
    {
     "name": "stdout",
     "output_type": "stream",
     "text": [
      "counter- 2\n"
     ]
    }
   ],
   "source": [
    "increment()"
   ]
  },
  {
   "cell_type": "code",
   "execution_count": 28,
   "id": "139584ad-bedc-4d28-815d-191ea57c7aba",
   "metadata": {},
   "outputs": [
    {
     "name": "stdout",
     "output_type": "stream",
     "text": [
      "counter- 3\n"
     ]
    }
   ],
   "source": [
    "increment()"
   ]
  },
  {
   "cell_type": "code",
   "execution_count": 29,
   "id": "81bb5a1c-3896-43a8-9cd8-3e9901af4fde",
   "metadata": {},
   "outputs": [],
   "source": [
    "# Q3: Write a function demo_local() that declares a local variable message = \"Hello,Local\" and prints it.\n",
    "# Outside the function, try to print the same message variable and note the error."
   ]
  },
  {
   "cell_type": "code",
   "execution_count": 38,
   "id": "c584f66c-a5d6-4bb6-8589-32391e95941b",
   "metadata": {},
   "outputs": [],
   "source": [
    "def demo_local():\n",
    "    l = \"Hello,Local\"\n",
    "    print(l)"
   ]
  },
  {
   "cell_type": "code",
   "execution_count": 34,
   "id": "72fb7fe0-456f-4fe9-b0fe-eb0a70a9f6c5",
   "metadata": {},
   "outputs": [
    {
     "name": "stdout",
     "output_type": "stream",
     "text": [
      "Hello,Local\n"
     ]
    }
   ],
   "source": [
    "demo_local()"
   ]
  },
  {
   "cell_type": "code",
   "execution_count": 39,
   "id": "96191420-a888-437f-9c2a-6dbe03bced51",
   "metadata": {},
   "outputs": [
    {
     "ename": "NameError",
     "evalue": "name 'l' is not defined",
     "output_type": "error",
     "traceback": [
      "\u001b[1;31m---------------------------------------------------------------------------\u001b[0m",
      "\u001b[1;31mNameError\u001b[0m                                 Traceback (most recent call last)",
      "Cell \u001b[1;32mIn[39], line 1\u001b[0m\n\u001b[1;32m----> 1\u001b[0m \u001b[38;5;28mprint\u001b[39m(l)\n",
      "\u001b[1;31mNameError\u001b[0m: name 'l' is not defined"
     ]
    }
   ],
   "source": [
    "print(l)"
   ]
  },
  {
   "cell_type": "code",
   "execution_count": 37,
   "id": "a6a020a2-1a94-48d3-bc52-621ddb83406d",
   "metadata": {},
   "outputs": [],
   "source": [
    "# Q4: Modify demo_local() from the previous question to access a global variable message = \"Hello, Global\" from within the function."
   ]
  },
  {
   "cell_type": "code",
   "execution_count": 40,
   "id": "eaf4b5ef-7e78-4060-8e98-10702b6fc865",
   "metadata": {},
   "outputs": [],
   "source": [
    "l = \"Hello,Local\"\n",
    "def demo_local():\n",
    "    global l\n",
    "    print(l)"
   ]
  },
  {
   "cell_type": "code",
   "execution_count": 41,
   "id": "f5510610-574e-485d-a3f3-f23f53a7ac24",
   "metadata": {},
   "outputs": [
    {
     "name": "stdout",
     "output_type": "stream",
     "text": [
      "Hello,Local\n"
     ]
    }
   ],
   "source": [
    "demo_local()"
   ]
  },
  {
   "cell_type": "code",
   "execution_count": 42,
   "id": "423d33fd-d774-4aea-b078-6eb8bb435ca1",
   "metadata": {},
   "outputs": [
    {
     "name": "stdout",
     "output_type": "stream",
     "text": [
      "Hello,Local\n"
     ]
    }
   ],
   "source": [
    "print(l)"
   ]
  },
  {
   "cell_type": "code",
   "execution_count": 43,
   "id": "744a00cb-1c21-4524-a8c0-f7a6dc7df10f",
   "metadata": {},
   "outputs": [],
   "source": [
    "# Q5: Write a function greet(name) that takes a name as input and returns a greeting message like \"Hello, John!\".\n",
    "# Add a proper docstring describing the purpose of the function, its input parameter, and its return value.\n",
    "# Use help() to display the docstring."
   ]
  },
  {
   "cell_type": "code",
   "execution_count": 48,
   "id": "9b90c94c-695d-4b7b-bdd8-2a02dc318537",
   "metadata": {},
   "outputs": [],
   "source": [
    "def greet(Name):\n",
    "    \"\"\" This function take a input name and grreturn greetinh message \"Hello, John!\" as the output.\"\"\"\n",
    "    print(\"Hello,\",Name)"
   ]
  },
  {
   "cell_type": "code",
   "execution_count": 49,
   "id": "83b6d42b-150f-4768-b671-36e34ef3a85f",
   "metadata": {},
   "outputs": [
    {
     "name": "stdout",
     "output_type": "stream",
     "text": [
      "Hello, John!\n"
     ]
    }
   ],
   "source": [
    "greet(\"John!\")"
   ]
  },
  {
   "cell_type": "code",
   "execution_count": 4,
   "id": "935d480d-0108-4f7b-bc6f-c24c6fedcd8f",
   "metadata": {},
   "outputs": [],
   "source": [
    "# Q6: Write a function calculate_area(radius) to compute the area of a circle given its radius.\n",
    "# Add a docstring explaining the formula used for calculation and the purpose of the function."
   ]
  },
  {
   "cell_type": "code",
   "execution_count": 5,
   "id": "6fac7b8d-4e6f-4160-b34a-274687e8cb56",
   "metadata": {},
   "outputs": [],
   "source": [
    "def calculate_area(radius):\n",
    "    \"\"\" This function is calculating the area of circle which is 3.14*r*r.\"\"\"\n",
    "    area = 3.14 * radius * radius\n",
    "    print(area)"
   ]
  },
  {
   "cell_type": "code",
   "execution_count": 3,
   "id": "46012744-4842-4a56-9f43-f4e491133f65",
   "metadata": {},
   "outputs": [
    {
     "name": "stdout",
     "output_type": "stream",
     "text": [
      "78.5\n"
     ]
    }
   ],
   "source": [
    "calculate_area(5)"
   ]
  },
  {
   "cell_type": "code",
   "execution_count": 6,
   "id": "50bad2a4-bff5-4043-87f1-282ea769b942",
   "metadata": {},
   "outputs": [],
   "source": [
    "# Q7: Write a function is_even(n) that returns True if a number is even, otherwise returns False. Test the function with multiple inputs."
   ]
  },
  {
   "cell_type": "code",
   "execution_count": 7,
   "id": "739e305a-a570-4e1e-a3e8-835d04a92582",
   "metadata": {},
   "outputs": [],
   "source": [
    "def is_even(n):\n",
    "    if n%2 == 0:\n",
    "        return True\n",
    "    else:\n",
    "        return False"
   ]
  },
  {
   "cell_type": "code",
   "execution_count": 8,
   "id": "ede18b52-d42e-4aa8-8ded-47dc154d7927",
   "metadata": {},
   "outputs": [
    {
     "data": {
      "text/plain": [
       "True"
      ]
     },
     "execution_count": 8,
     "metadata": {},
     "output_type": "execute_result"
    }
   ],
   "source": [
    "is_even(4)"
   ]
  },
  {
   "cell_type": "code",
   "execution_count": 9,
   "id": "8e09e722-0feb-4c92-9ade-821a21e85e60",
   "metadata": {},
   "outputs": [
    {
     "data": {
      "text/plain": [
       "False"
      ]
     },
     "execution_count": 9,
     "metadata": {},
     "output_type": "execute_result"
    }
   ],
   "source": [
    "is_even(21)"
   ]
  },
  {
   "cell_type": "code",
   "execution_count": null,
   "id": "004dcc8d-7f15-43c4-ab71-d4f3286d5dc9",
   "metadata": {},
   "outputs": [],
   "source": []
  }
 ],
 "metadata": {
  "kernelspec": {
   "display_name": "Python [conda env:base] *",
   "language": "python",
   "name": "conda-base-py"
  },
  "language_info": {
   "codemirror_mode": {
    "name": "ipython",
    "version": 3
   },
   "file_extension": ".py",
   "mimetype": "text/x-python",
   "name": "python",
   "nbconvert_exporter": "python",
   "pygments_lexer": "ipython3",
   "version": "3.12.7"
  }
 },
 "nbformat": 4,
 "nbformat_minor": 5
}
